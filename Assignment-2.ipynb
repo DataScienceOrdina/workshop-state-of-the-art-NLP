{
 "cells": [
  {
   "attachments": {},
   "cell_type": "markdown",
   "metadata": {},
   "source": [
    "# Assignment 2: reference model (Transformers for embedding)\n",
    "In this assignment, you will try to improve upon the the word2vec sentiment classifiation by using transformer. A working example is provided, which you can improve upon. (see: https://huggingface.co)\n",
    "\n",
    "Tasks:\n",
    "- We have provided a default huggingface model to generate embeddings, try to improve upon this.\n",
    "- If you can think of a better way to use huggingface models to predict the proper sentement labels for the movie reviews? If so implement it!"
   ]
  },
  {
   "cell_type": "code",
   "execution_count": 1,
   "metadata": {},
   "outputs": [],
   "source": [
    "from sentence_transformers import SentenceTransformer\n",
    "from sklearn.ensemble import RandomForestClassifier\n",
    "from sklearn.metrics import accuracy_score\n",
    "import pandas as pd\n",
    "from pathlib import Path"
   ]
  },
  {
   "attachments": {},
   "cell_type": "markdown",
   "metadata": {},
   "source": [
    "# Load data"
   ]
  },
  {
   "cell_type": "code",
   "execution_count": 2,
   "metadata": {},
   "outputs": [],
   "source": [
    "data_train = pd.read_csv(Path('data/train.csv'))\n",
    "data_test = pd.read_csv(Path('data/test.csv'))\n",
    "\n",
    "# select a subset of reviews to train on\n",
    "data_train=data_train.head(10000)\n",
    "\n",
    "reviews_train = data_train['review']\n",
    "y_true_train = data_train['sentiment']\n",
    "\n",
    "reviews_test = data_test['review']\n",
    "y_true_test = data_test['sentiment']"
   ]
  },
  {
   "attachments": {},
   "cell_type": "markdown",
   "metadata": {},
   "source": [
    "# Generate word embeddings\n",
    "\n",
    "Now we load the spacy language model \"en_core_web_lg\". This contains a pretrained word2vec model. We take the average word vector vor every review (or \"doc\") and save it in a list."
   ]
  },
  {
   "cell_type": "code",
   "execution_count": 3,
   "metadata": {},
   "outputs": [],
   "source": [
    "model = SentenceTransformer('sentence-transformers/paraphrase-MiniLM-L6-v2')\n",
    "X_train = model.encode(reviews_train)\n",
    "X_test = model.encode(reviews_test)"
   ]
  },
  {
   "cell_type": "code",
   "execution_count": 4,
   "metadata": {},
   "outputs": [],
   "source": [
    "model = RandomForestClassifier(max_depth=6).fit(X_train , y_true_train)\n",
    "y_pred_train = model.predict(X_train)\n",
    "y_pred_test = model.predict(X_test)"
   ]
  },
  {
   "cell_type": "code",
   "execution_count": 5,
   "metadata": {},
   "outputs": [
    {
     "name": "stdout",
     "output_type": "stream",
     "text": [
      "Training accuracy: 0.8315, test accuracy: 0.779\n"
     ]
    }
   ],
   "source": [
    "training_accuracy = accuracy_score(y_pred_train, y_true_train)\n",
    "test_accuracy = accuracy_score(y_pred_test, y_true_test)\n",
    "print(f'Training accuracy: {training_accuracy}, test accuracy: {test_accuracy}')"
   ]
  }
 ],
 "metadata": {
  "kernelspec": {
   "display_name": "Python 3",
   "language": "python",
   "name": "python3"
  },
  "language_info": {
   "codemirror_mode": {
    "name": "ipython",
    "version": 3
   },
   "file_extension": ".py",
   "mimetype": "text/x-python",
   "name": "python",
   "nbconvert_exporter": "python",
   "pygments_lexer": "ipython3",
   "version": "3.10.9"
  },
  "orig_nbformat": 4,
  "vscode": {
   "interpreter": {
    "hash": "b0fa6594d8f4cbf19f97940f81e996739fb7646882a419484c72d19e05852a7e"
   }
  }
 },
 "nbformat": 4,
 "nbformat_minor": 2
}
