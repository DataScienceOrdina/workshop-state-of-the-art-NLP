{
 "cells": [
  {
   "attachments": {},
   "cell_type": "markdown",
   "metadata": {},
   "source": [
    "# Assignment 1: reference model (word2vec)\n",
    "In this assignment, you will find a reference model for sentiment analysis using spaCy to generate word2vec embeddings to feed to a classifier to determine the sentiment of IMBD movie reviews. It is intended to serve as a baseline and show how straightforward text analysis with spaCy is. In assignment 2 you will compare to the accuracy of this word2vec model. \n",
    "\n",
    "Tasks:\n",
    "- Walk through the code to understand what it does.\n",
    "- Something seems off with the classifier, try to fix it."
   ]
  },
  {
   "cell_type": "code",
   "execution_count": 1,
   "metadata": {},
   "outputs": [],
   "source": [
    "import numpy as np\n",
    "import pandas as pd\n",
    "import os\n",
    "import spacy\n",
    "from pathlib import Path\n",
    "from sklearn.ensemble import RandomForestClassifier\n",
    "from sklearn.metrics import accuracy_score\n",
    "from tqdm import tqdm"
   ]
  },
  {
   "attachments": {},
   "cell_type": "markdown",
   "metadata": {},
   "source": [
    "# Load data"
   ]
  },
  {
   "cell_type": "code",
   "execution_count": 2,
   "metadata": {},
   "outputs": [
    {
     "data": {
      "text/html": [
       "<div>\n",
       "<style scoped>\n",
       "    .dataframe tbody tr th:only-of-type {\n",
       "        vertical-align: middle;\n",
       "    }\n",
       "\n",
       "    .dataframe tbody tr th {\n",
       "        vertical-align: top;\n",
       "    }\n",
       "\n",
       "    .dataframe thead th {\n",
       "        text-align: right;\n",
       "    }\n",
       "</style>\n",
       "<table border=\"1\" class=\"dataframe\">\n",
       "  <thead>\n",
       "    <tr style=\"text-align: right;\">\n",
       "      <th></th>\n",
       "      <th>review</th>\n",
       "      <th>sentiment</th>\n",
       "    </tr>\n",
       "  </thead>\n",
       "  <tbody>\n",
       "    <tr>\n",
       "      <th>0</th>\n",
       "      <td>This movie is awful, I can't even be bothered ...</td>\n",
       "      <td>negative</td>\n",
       "    </tr>\n",
       "    <tr>\n",
       "      <th>1</th>\n",
       "      <td>Why do movie makers always go against the auth...</td>\n",
       "      <td>negative</td>\n",
       "    </tr>\n",
       "    <tr>\n",
       "      <th>2</th>\n",
       "      <td>I can't believe that those praising this movie...</td>\n",
       "      <td>negative</td>\n",
       "    </tr>\n",
       "    <tr>\n",
       "      <th>3</th>\n",
       "      <td>This film really used its locations well with ...</td>\n",
       "      <td>positive</td>\n",
       "    </tr>\n",
       "    <tr>\n",
       "      <th>4</th>\n",
       "      <td>Strangely enough this movie never made it to t...</td>\n",
       "      <td>positive</td>\n",
       "    </tr>\n",
       "  </tbody>\n",
       "</table>\n",
       "</div>"
      ],
      "text/plain": [
       "                                              review sentiment\n",
       "0  This movie is awful, I can't even be bothered ...  negative\n",
       "1  Why do movie makers always go against the auth...  negative\n",
       "2  I can't believe that those praising this movie...  negative\n",
       "3  This film really used its locations well with ...  positive\n",
       "4  Strangely enough this movie never made it to t...  positive"
      ]
     },
     "metadata": {},
     "output_type": "display_data"
    }
   ],
   "source": [
    "data_train = pd.read_csv(Path('data/train.csv'))\n",
    "data_test = pd.read_csv(Path('data/test.csv'))\n",
    "\n",
    "# select a subset of reviews to train on\n",
    "data_train=data_train.head(10000)\n",
    "\n",
    "reviews_train = data_train['review']\n",
    "y_true_train = data_train['sentiment']\n",
    "\n",
    "reviews_test = data_test['review']\n",
    "y_true_test = data_test['sentiment']\n",
    "display(data_train.head())"
   ]
  },
  {
   "attachments": {},
   "cell_type": "markdown",
   "metadata": {},
   "source": [
    "# Generate word embeddings\n",
    "\n",
    "Now we load the spacy language model \"en_core_web_lg\". This contains a pretrained word2vec model. We take the average word vector vor every review (or \"doc\") and save it in a list.\n",
    "\n",
    "**Note:** that we do not perform any preprocessing. This is because spacy creates document vectors by averaging the token vectors for all tokens that have a vector. Tokens that would be taken out be preprocessing will simply not be in the pretrained word2vec model, so no need to account for this."
   ]
  },
  {
   "cell_type": "code",
   "execution_count": 3,
   "metadata": {},
   "outputs": [
    {
     "name": "stdout",
     "output_type": "stream",
     "text": [
      "Generating word2vec embeddings\n"
     ]
    },
    {
     "name": "stderr",
     "output_type": "stream",
     "text": [
      "100%|██████████| 10000/10000 [01:46<00:00, 93.56it/s]\n",
      "100%|██████████| 1000/1000 [00:10<00:00, 92.50it/s]\n"
     ]
    }
   ],
   "source": [
    "\n",
    "nlp_lg = spacy.load(\"en_core_web_lg\")\n",
    "\n",
    "print('Generating word2vec embeddings')\n",
    "X_train = [doc.vector for doc in tqdm(nlp_lg.pipe(reviews_train), total=len(reviews_train))]\n",
    "X_test = [doc.vector for doc in tqdm(nlp_lg.pipe(reviews_test), total=len(reviews_test))]\n"
   ]
  },
  {
   "attachments": {},
   "cell_type": "markdown",
   "metadata": {},
   "source": [
    "# Train classifier\n",
    "Train a classifier to classify the sentiment on both the training and test set."
   ]
  },
  {
   "cell_type": "code",
   "execution_count": 4,
   "metadata": {},
   "outputs": [],
   "source": [
    "model = RandomForestClassifier(max_depth=20).fit(X_train , y_true_train)\n",
    "y_pred_train = model.predict(X_train)\n",
    "y_pred_test = model.predict(X_test)"
   ]
  },
  {
   "attachments": {},
   "cell_type": "markdown",
   "metadata": {},
   "source": [
    "# Determine accuracy\n",
    "Next we determine the accuracy of the classifier on the training and test set. "
   ]
  },
  {
   "cell_type": "code",
   "execution_count": 5,
   "metadata": {},
   "outputs": [
    {
     "name": "stdout",
     "output_type": "stream",
     "text": [
      "Training accuracy: 0.9993, test accuracy: 0.76\n"
     ]
    }
   ],
   "source": [
    "training_accuracy = accuracy_score(y_pred_train, y_true_train)\n",
    "test_accuracy = accuracy_score(y_pred_test, y_true_test)\n",
    "print(f'Training accuracy: {training_accuracy}, test accuracy: {test_accuracy}')"
   ]
  }
 ],
 "metadata": {
  "kernelspec": {
   "display_name": "Python 3",
   "language": "python",
   "name": "python3"
  },
  "language_info": {
   "codemirror_mode": {
    "name": "ipython",
    "version": 3
   },
   "file_extension": ".py",
   "mimetype": "text/x-python",
   "name": "python",
   "nbconvert_exporter": "python",
   "pygments_lexer": "ipython3",
   "version": "3.10.9"
  },
  "orig_nbformat": 4,
  "vscode": {
   "interpreter": {
    "hash": "b0fa6594d8f4cbf19f97940f81e996739fb7646882a419484c72d19e05852a7e"
   }
  }
 },
 "nbformat": 4,
 "nbformat_minor": 2
}
